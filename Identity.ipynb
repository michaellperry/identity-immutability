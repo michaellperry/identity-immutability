{
 "metadata": {
  "kernelspec": {
   "display_name": ".NET (C#)",
   "language": "C#",
   "name": ".net-csharp"
  },
  "language_info": {
   "name": "C#"
  }
 },
 "cells": [
  {
   "cell_type": "markdown",
   "source": [
    "# Identity, Immutability, and .NET Interactive Notebooks\r\n",
    "\r\n",
    "Michael L Perry\r\n",
    "\r\n",
    "> @michaellperry\r\n",
    "\r\n",
    "Code posted to https://github.com/michaellperry/identity-immutability"
   ],
   "metadata": {}
  },
  {
   "cell_type": "markdown",
   "source": [
    "\r\n",
    "## Location-Specific Identity\r\n",
    "\r\n",
    "Let's get an instance of PostgreSQL running in Docker:\r\n",
    "\r\n",
    "```\r\n",
    "docker run --name postgres -p5432:5432 -e POSTGRES_PASSWORD=mypw -d postgres\r\n",
    "```\r\n",
    "\r\n",
    "Connect to the container using this command.\r\n",
    "\r\n",
    "```\r\n",
    "docker exec -it postgres /bin/bash\r\n",
    "```\r\n",
    "\r\n",
    "Once connected, you can start the PostgreSQL client.\r\n",
    "\r\n",
    "```\r\n",
    "psql -U postgres\r\n",
    "```\r\n",
    "\r\n",
    "Postgres has an object called a Sequence. It's entire purpose is to generate increasing numbers. Every time someone asks for a number from the sequence, they are guaranteed to get a number different -- and bigger -- than any number that anyone else has seen.\r\n",
    "\r\n",
    "Create a sequence like this:\r\n",
    "\r\n",
    "```\r\n",
    "CREATE SEQUENCE id;\r\n",
    "```\r\n",
    "\r\n",
    "Then get the next number like this:\r\n",
    "\r\n",
    "```\r\n",
    "SELECT nextval('id');\r\n",
    "```\r\n",
    "\r\n",
    "To quit the PostgreSQL client, just type `\\q` and press enter.\r\n",
    "Then type `exit` and press enter to log out of the Docker container.\r\n",
    "\r\n",
    "You can also do that in a client application using a Postgres driver.\r\n",
    "This code will install a driver via a NuGet package and then get the next ID from the sequence."
   ],
   "metadata": {}
  },
  {
   "cell_type": "code",
   "execution_count": null,
   "source": [
    "#r \"nuget: Npgsql, 5.0.7\"\r\n",
    "\r\n",
    "using Npgsql;\r\n",
    "\r\n",
    "var connString = \"Host=localhost;Username=postgres;Password=mypw;Database=postgres\";\r\n",
    "\r\n",
    "var conn = new NpgsqlConnection(connString);\r\n",
    "await conn.OpenAsync();\r\n",
    "\r\n",
    "var comm = new NpgsqlCommand(\"SELECT nextval('id')\", conn);\r\n",
    "var nextId = await comm.ExecuteScalarAsync();\r\n",
    "await comm.DisposeAsync();\r\n",
    "\r\n",
    "await conn.DisposeAsync();\r\n",
    "\r\n",
    "nextId"
   ],
   "outputs": [
    {
     "output_type": "display_data",
     "data": {
      "text/html": [
       "<div><div></div><div></div><div><strong>Installed Packages</strong><ul><li><span>Npgsql, 5.0.7</span></li></ul></div></div>"
      ]
     },
     "metadata": {}
    },
    {
     "output_type": "display_data",
     "data": {
      "text/html": [
       "<div class=\"dni-plaintext\">2</div>"
      ]
     },
     "metadata": {}
    }
   ],
   "metadata": {
    "dotnet_interactive": {
     "language": "csharp"
    }
   }
  }
 ],
 "nbformat": 4,
 "nbformat_minor": 2
}