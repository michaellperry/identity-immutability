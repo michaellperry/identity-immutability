{
 "metadata": {
  "kernelspec": {
   "display_name": ".NET (C#)",
   "language": "C#",
   "name": ".net-csharp"
  },
  "language_info": {
   "name": "C#"
  }
 },
 "cells": [
  {
   "cell_type": "markdown",
   "source": [
    "# Identity, Immutability, and .NET Interactive Notebooks\r\n",
    "\r\n",
    "Michael L Perry\r\n",
    "\r\n",
    "> @michaellperry\r\n",
    "\r\n",
    "Code posted to https://github.com/michaellperry/identity-immutability"
   ],
   "metadata": {}
  },
  {
   "cell_type": "markdown",
   "source": [
    "\r\n",
    "## Location-Specific Identity\r\n",
    "\r\n",
    "Let's get an instance of PostgreSQL running in Docker:\r\n",
    "\r\n",
    "```\r\n",
    "docker run --name postgres -p5432:5432 -e POSTGRES_PASSWORD=mypw -d postgres\r\n",
    "```\r\n",
    "\r\n",
    "Connect to the container using this command.\r\n",
    "\r\n",
    "```\r\n",
    "docker exec -it postgres /bin/bash\r\n",
    "```\r\n",
    "\r\n",
    "Once connected, you can start the PostgreSQL client.\r\n",
    "\r\n",
    "```\r\n",
    "psql -U postgres\r\n",
    "```\r\n",
    "\r\n",
    "Postgres has an object called a Sequence. It's entire purpose is to generate increasing numbers. Every time someone asks for a number from the sequence, they are guaranteed to get a number different -- and bigger -- than any number that anyone else has seen.\r\n",
    "\r\n",
    "Create a sequence like this:\r\n",
    "\r\n",
    "```\r\n",
    "CREATE SEQUENCE id;\r\n",
    "```\r\n",
    "\r\n",
    "Then get the next number like this:\r\n",
    "\r\n",
    "```\r\n",
    "SELECT nextval('id');\r\n",
    "```\r\n",
    "\r\n",
    "To quit the PostgreSQL client, just type `\\q` and press enter.\r\n",
    "Then type `exit` and press enter to log out of the Docker container.\r\n",
    "\r\n",
    "You can also do that in a client application using a Postgres driver.\r\n",
    "This code will install a driver via a NuGet package and then get the next ID from the sequence."
   ],
   "metadata": {}
  },
  {
   "cell_type": "code",
   "execution_count": null,
   "source": [
    "#r \"nuget: Npgsql, 5.0.7\"\r\n",
    "\r\n",
    "using Npgsql;\r\n",
    "\r\n",
    "var connString = \"Host=localhost;Username=postgres;Password=mypw;Database=postgres\";\r\n",
    "\r\n",
    "var conn = new NpgsqlConnection(connString);\r\n",
    "await conn.OpenAsync();\r\n",
    "\r\n",
    "var comm = new NpgsqlCommand(\"SELECT nextval('id')\", conn);\r\n",
    "var nextId = await comm.ExecuteScalarAsync();\r\n",
    "await comm.DisposeAsync();\r\n",
    "\r\n",
    "await conn.DisposeAsync();\r\n",
    "\r\n",
    "nextId"
   ],
   "outputs": [
    {
     "data": {
      "text/html": [
       "<div><div></div><div></div><div><strong>Installed Packages</strong><ul><li><span>Npgsql, 5.0.7</span></li></ul></div></div>"
      ]
     },
     "metadata": {},
     "output_type": "display_data"
    },
    {
     "data": {
      "text/html": [
       "<div class=\"dni-plaintext\">4</div>"
      ]
     },
     "metadata": {},
     "output_type": "display_data"
    }
   ],
   "metadata": {
    "dotnet_interactive": {
     "language": "csharp"
    }
   }
  },
  {
   "cell_type": "code",
   "execution_count": null,
   "source": [
    "Guid.NewGuid()"
   ],
   "outputs": [
    {
     "data": {
      "text/html": [
       "<div class=\"dni-plaintext\">4babca6d-41a1-4df2-a2bf-3786d2630347</div>"
      ]
     },
     "metadata": {},
     "output_type": "display_data"
    }
   ],
   "metadata": {
    "dotnet_interactive": {
     "language": "csharp"
    }
   }
  },
  {
   "cell_type": "code",
   "execution_count": null,
   "source": [
    "using System.Security.Cryptography;\r\n",
    "\r\n",
    "var rsa = RSA.Create(2048);\r\n",
    "byte[] bytes = rsa.ExportRSAPublicKey();\r\n",
    "string publicKey = Convert.ToBase64String(bytes);\r\n",
    "publicKey"
   ],
   "outputs": [
    {
     "data": {
      "text/plain": [
       "MIIBCgKCAQEA807cb6nBI+1UGxfNfIdnW4uK7n8ncWavgCWCIGY0hdtFSZFT2l6asC6MUMIoQrvFCxtv0rAQpP12aDynQRE8MBU40rmCw3/s3Zp8F4b5r//GcRjusACK6g0+d775iw683kcU7iLFviMk3SB02VNS3ZNBMPdhLxttEM8rZFSkxg7kH45I6TRq4xZqe8JFij9/VETFGlm+IGmE4U7r8fUAzCEvN8sh6xPYYkAzRIp8TC21ClRwFJiSl/jyfiLISyHaqJXNsTVNKK7S/Tfdwz1TujjvyWYhWig93tAvQ+Nad2N/H8CfLFbJl9FNhXoTw9KdXgOMKO9vtevTQ/GwUoR1MQIDAQAB"
      ]
     },
     "metadata": {},
     "output_type": "display_data"
    }
   ],
   "metadata": {
    "dotnet_interactive": {
     "language": "csharp"
    }
   }
  },
  {
   "cell_type": "code",
   "execution_count": null,
   "source": [
    "byte[] key = rsa.ExportRSAPrivateKey();\r\n",
    "Convert.ToBase64String(key)"
   ],
   "outputs": [
    {
     "data": {
      "text/plain": [
       "MIIEogIBAAKCAQEA807cb6nBI+1UGxfNfIdnW4uK7n8ncWavgCWCIGY0hdtFSZFT2l6asC6MUMIoQrvFCxtv0rAQpP12aDynQRE8MBU40rmCw3/s3Zp8F4b5r//GcRjusACK6g0+d775iw683kcU7iLFviMk3SB02VNS3ZNBMPdhLxttEM8rZFSkxg7kH45I6TRq4xZqe8JFij9/VETFGlm+IGmE4U7r8fUAzCEvN8sh6xPYYkAzRIp8TC21ClRwFJiSl/jyfiLISyHaqJXNsTVNKK7S/Tfdwz1TujjvyWYhWig93tAvQ+Nad2N/H8CfLFbJl9FNhXoTw9KdXgOMKO9vtevTQ/GwUoR1MQIDAQABAoIBAGTvrltUnR9+cYnb0g97TNGZjkVq0r4kz2HmLZmrTNbLJG9krtjErn+wj91g7rrgktoMw9Mv33fS/rA3mVtQ/xsjcrNY6nqYM3ergxdvk14EShrZMQwq7XYzkFq1C2k47/l2m6Q/ILHEeqKRuGgAPTxWvpDFz7dvNUvn5iR1SPYwoDGRvU13zKnVaLbo4p3z57kgp8jytOVMrv4kJgvpXUKyiOoto+24K1Zy7ELzJ1yreDN4THQnQrZDQs/1BDipcyPffheKh4NlzgvzqqKyY50q6NiQ6m+YXytzrWEWPpVrAqwiwzy8vvmBPP+oXiq5giZrBOev7TiNtyV/s0Oa+ZECgYEA9cPXUEosV2Du6Cl5e7Vh+OThzLjqzyjGuuaW0E6qCXB4YL3Po51rGbUTVOJeD3ADcFshPeS2WZb9cs+kzdQ/JaPHxjs5m/jyrkWnrvJLA/E6/lMg5Gtk6HAZIP5DztviC8JBTZB/Fch/4g303Y1gAJ+SXHpZ3C4Y/9ZHlyJ8AlMCgYEA/XDTavnAwkCjP3ckWm7sdjrhP3l6Girhm/cmMnYjv1BcusWMoRxRnmllo9YlP1OIRMUKS0RM0lF9IINLIXfZXk315X9RYspLU74QGh3YmnBO02lMLXK1yVNE46rKmRgeqHD+XUBlNSAuEVRKvZWgenh9W6XNAjg2aVZS5lkkAesCgYAeokevaV93kMyWwbyzz9sjdBw1MYOLSPDkkSORWYzWWl+W53H/WfrknG6JcSH6WKMFGUbeeSjFqA11hy5qvZ8VaQHY0r8Okwxk7qfFJcx19Fa/Jst9zWkpk/d95lO7cCsP/im3qmA87d4K5mR0TU//I+TRhCq5SEGzehk4XIMKowKBgBZbHnsgPs2j0AKoKs/DWx5uwTHNMGUghTgxy+/Flg+pMhTTmj0X92cm2u1h1XVJlAqk6uyKwNAImiYFDtqL7OOxstAks/Qn7g8cA+WZ3mJ5J6rkbfDQXpK8wqXmieqJQyMOnJFzPbo69XVX3yPsD/TdrgkojfX1KW+PSs7A7DkzAoGAKdI7udDV8TqMlRXlyVspUvBukIJQXkAVz6G3cOM1uBKq791h8SeTLSgIshbcvigDzpLGKXdtIbs9m/2TPwYCPwbmP7ZNhVeZw+OEA2+bdlSZ/IrAQu+TPWi6wnye3CmTDO0GbEh3B5XRTzgdbgvZllVncdEdi3zpkoFjzWmvW2g="
      ]
     },
     "metadata": {},
     "output_type": "display_data"
    }
   ],
   "metadata": {
    "dotnet_interactive": {
     "language": "csharp"
    }
   }
  },
  {
   "cell_type": "code",
   "execution_count": null,
   "source": [
    "record Person(string publicKey);\r\n"
   ],
   "outputs": [],
   "metadata": {
    "dotnet_interactive": {
     "language": "csharp"
    }
   }
  },
  {
   "cell_type": "code",
   "execution_count": null,
   "source": [
    "\r\n",
    "var a = new Person(\"--- PUB ---\");\r\n",
    "var b = new Person(\"--- PUB ---\");\r\n",
    "\r\n",
    "$\"b = {b.GetHashCode()} a = {a.GetHashCode()}\""
   ],
   "outputs": [
    {
     "data": {
      "text/plain": [
       "b = 100267936 a = 100267936"
      ]
     },
     "metadata": {},
     "output_type": "display_data"
    }
   ],
   "metadata": {
    "dotnet_interactive": {
     "language": "csharp"
    }
   }
  },
  {
   "cell_type": "code",
   "execution_count": null,
   "source": [
    "object.ReferenceEquals(a, b)"
   ],
   "outputs": [
    {
     "data": {
      "text/html": [
       "<div class=\"dni-plaintext\">False</div>"
      ]
     },
     "metadata": {},
     "output_type": "display_data"
    }
   ],
   "metadata": {
    "dotnet_interactive": {
     "language": "csharp"
    }
   }
  },
  {
   "cell_type": "code",
   "execution_count": null,
   "source": [
    "record PersonName(Person person, string value);"
   ],
   "outputs": [],
   "metadata": {
    "dotnet_interactive": {
     "language": "csharp"
    }
   }
  },
  {
   "cell_type": "code",
   "execution_count": null,
   "source": [
    "var recordsOfTypePerson = new HashSet<Person>();\r\n",
    "var recordsOfTypePersonName = new HashSet<PersonName>();\r\n",
    "\r\n",
    "var george = new Person(publicKey);\r\n",
    "var georgesName = new PersonName(george, \"George\");\r\n",
    "\r\n",
    "recordsOfTypePerson.Add(george);\r\n",
    "recordsOfTypePersonName.Add(georgesName);\r\n",
    "\r\n",
    "var sally = new Person(\"---dkfjhsdkjdhf---\");\r\n",
    "var sallysName = new PersonName(sally, \"Sally\");\r\n",
    "\r\n",
    "recordsOfTypePerson.Add(sally);\r\n",
    "recordsOfTypePersonName.Add(sallysName);\r\n",
    "\r\n",
    "var result =\r\n",
    "    from personName in recordsOfTypePersonName\r\n",
    "    where personName.person.Equals(george)\r\n",
    "    select personName;\r\n",
    "\r\n",
    "result"
   ],
   "outputs": [
    {
     "data": {
      "text/html": [
       "<table><thead><tr><th><i>index</i></th><th>person</th><th>value</th></tr></thead><tbody><tr><td>0</td><td><table><thead><tr><th>publicKey</th></tr></thead><tbody><tr><td><div class=\"dni-plaintext\">MIIBCgKCAQEA807cb6nBI+1UGxfNfIdnW4uK7n8ncWavgCWCIGY0hdtFSZFT2l6asC6MUMIoQrvFCxtv0rAQpP12aDynQRE8MBU40rmCw3/s3Zp8F4b5r//GcRjusACK6g0+d775iw683kcU7iLFviMk3SB02VNS3ZNBMPdhLxttEM8rZFSkxg7kH45I6TRq4xZqe8JFij9/VETFGlm+IGmE4U7r8fUAzCEvN8sh6xPYYkAzRIp8TC21ClRwFJiSl/jyfiLISyHaqJXNsTVNKK7S/Tfdwz1TujjvyWYhWig93tAvQ+Nad2N/H8CfLFbJl9FNhXoTw9KdXgOMKO9vtevTQ/GwUoR1MQIDAQAB</div></td></tr></tbody></table></td><td>George</td></tr></tbody></table>"
      ]
     },
     "metadata": {},
     "output_type": "display_data"
    }
   ],
   "metadata": {
    "dotnet_interactive": {
     "language": "csharp"
    }
   }
  },
  {
   "cell_type": "code",
   "execution_count": null,
   "source": [
    "#r \"nuget: Jinaga.UnitTest, 0.1.1\"\r\n",
    "\r\n",
    "using Jinaga;\r\n",
    "using Jinaga.UnitTest;\r\n",
    "\r\n",
    "var j = JinagaTest.Create();\r\n",
    "\r\n",
    "[FactType(\"Jinaga.User\")]\r\n",
    "record Person(string publicKey);\r\n",
    "\r\n",
    "[FactType(\"Person.Name\")]\r\n",
    "record PersonName(Person person, string value, PersonName[] prior);\r\n"
   ],
   "outputs": [
    {
     "data": {
      "text/html": [
       "<div><div></div><div></div><div><strong>Installed Packages</strong><ul><li><span>Jinaga.UnitTest, 0.1.1</span></li></ul></div></div>"
      ]
     },
     "metadata": {},
     "output_type": "display_data"
    }
   ],
   "metadata": {
    "dotnet_interactive": {
     "language": "csharp"
    }
   }
  },
  {
   "cell_type": "code",
   "execution_count": null,
   "source": [
    "#r \"nuget: Jinaga.Graphviz, 0.1.1\"\r\n",
    "\r\n"
   ],
   "outputs": [
    {
     "data": {
      "text/html": [
       "<div><div></div><div></div><div><strong>Installed Packages</strong><ul><li><span>Jinaga.Graphviz, 0.1.1</span></li></ul></div></div>"
      ]
     },
     "metadata": {},
     "output_type": "display_data"
    }
   ],
   "metadata": {
    "dotnet_interactive": {
     "language": "csharp"
    }
   }
  },
  {
   "cell_type": "code",
   "execution_count": null,
   "source": [
    "\r\n",
    "var george = await j.Fact(new Person(\"--- PUB ---\"));\r\n",
    "var georgesName = await j.Fact(new PersonName(george, \"George\", new PersonName[] {}));\r\n",
    "await j.Fact(new PersonName(george, \"Jorge\", new [] { georgesName }));\r\n",
    "\r\n",
    "var namesOfPerson = Given<Person>.Match((person, facts) =>\r\n",
    "    from personName in facts.OfType<PersonName>()\r\n",
    "    where personName.person == george\r\n",
    "    where !(\r\n",
    "        from next in facts.OfType<PersonName>()\r\n",
    "        where next.prior.Contains(personName)\r\n",
    "        select next\r\n",
    "    ).Any()\r\n",
    "    select personName\r\n",
    ");\r\n",
    "var georgesNames = await j.Query(george, namesOfPerson);\r\n",
    "\r\n",
    "//georgesNames.Count()\r\n",
    "Jinaga.Graphviz.Renderer.RenderFacts(georgesNames)"
   ],
   "outputs": [
    {
     "data": {
      "text/html": [
       "<?xml version=\"1.0\" encoding=\"UTF-8\" standalone=\"no\"?>\r\n",
       "<!DOCTYPE svg PUBLIC \"-//W3C//DTD SVG 1.1//EN\"\r\n",
       " \"http://www.w3.org/Graphics/SVG/1.1/DTD/svg11.dtd\">\r\n",
       "<!-- Generated by graphviz version 2.48.0 (20210717.1556)\r\n",
       " -->\r\n",
       "<!-- Pages: 1 -->\r\n",
       "<svg width=\"221pt\" height=\"262pt\"\r\n",
       " viewBox=\"0.00 0.00 220.50 262.00\" xmlns=\"http://www.w3.org/2000/svg\" xmlns:xlink=\"http://www.w3.org/1999/xlink\">\r\n",
       "<g id=\"graph0\" class=\"graph\" transform=\"scale(1 1) rotate(0) translate(4 258)\">\r\n",
       "<polygon fill=\"white\" stroke=\"transparent\" points=\"-4,4 -4,-258 216.5,-258 216.5,4 -4,4\"/>\r\n",
       "<!-- 3NsFsBQo2URgAC3KOQgRp0054c1iK9F1KzMQGM78CmaqFz3GkQNub0KaHQBmo6bDgRzIEPF4dQfibxOwJbUgcA== -->\r\n",
       "<g id=\"node1\" class=\"node\">\r\n",
       "<title>3NsFsBQo2URgAC3KOQgRp0054c1iK9F1KzMQGM78CmaqFz3GkQNub0KaHQBmo6bDgRzIEPF4dQfibxOwJbUgcA==</title>\r\n",
       "<polygon fill=\"none\" stroke=\"black\" points=\"8,-229 8,-250 152,-250 152,-229 8,-229\"/>\r\n",
       "<text text-anchor=\"start\" x=\"48\" y=\"-235.8\" font-family=\"Times New Roman,serif\" font-size=\"14.00\">Jinaga.User</text>\r\n",
       "<polygon fill=\"none\" stroke=\"black\" points=\"8,-208 8,-229 72,-229 72,-208 8,-208\"/>\r\n",
       "<text text-anchor=\"start\" x=\"11\" y=\"-214.8\" font-family=\"Times New Roman,serif\" font-size=\"14.00\">publicKey</text>\r\n",
       "<polygon fill=\"none\" stroke=\"black\" points=\"72,-208 72,-229 152,-229 152,-208 72,-208\"/>\r\n",
       "<text text-anchor=\"start\" x=\"75\" y=\"-214.8\" font-family=\"Times New Roman,serif\" font-size=\"14.00\">&quot;&#45;&#45;&#45; PUB &#45;&#45;&#45;&quot;</text>\r\n",
       "</g>\r\n",
       "<!-- kxupOOpMqi9u8FHn/n2kai5au7DvP89vJMiaGGWIDjX3waVYqY7R29YJ7Ooit5SRTWDhxTOlosTGLcA/EE8kbg== -->\r\n",
       "<g id=\"node2\" class=\"node\">\r\n",
       "<title>kxupOOpMqi9u8FHn/n2kai5au7DvP89vJMiaGGWIDjX3waVYqY7R29YJ7Ooit5SRTWDhxTOlosTGLcA/EE8kbg==</title>\r\n",
       "<polygon fill=\"none\" stroke=\"black\" points=\"110,-128 110,-149 205,-149 205,-128 110,-128\"/>\r\n",
       "<text text-anchor=\"start\" x=\"119.5\" y=\"-134.8\" font-family=\"Times New Roman,serif\" font-size=\"14.00\">Person.Name</text>\r\n",
       "<polygon fill=\"none\" stroke=\"black\" points=\"110,-107 110,-128 145,-128 145,-107 110,-107\"/>\r\n",
       "<text text-anchor=\"start\" x=\"113\" y=\"-113.8\" font-family=\"Times New Roman,serif\" font-size=\"14.00\">value</text>\r\n",
       "<polygon fill=\"none\" stroke=\"black\" points=\"145,-107 145,-128 205,-128 205,-107 145,-107\"/>\r\n",
       "<text text-anchor=\"start\" x=\"148\" y=\"-113.8\" font-family=\"Times New Roman,serif\" font-size=\"14.00\">&quot;George&quot;</text>\r\n",
       "</g>\r\n",
       "<!-- kxupOOpMqi9u8FHn/n2kai5au7DvP89vJMiaGGWIDjX3waVYqY7R29YJ7Ooit5SRTWDhxTOlosTGLcA/EE8kbg==&#45;&gt;3NsFsBQo2URgAC3KOQgRp0054c1iK9F1KzMQGM78CmaqFz3GkQNub0KaHQBmo6bDgRzIEPF4dQfibxOwJbUgcA== -->\r\n",
       "<g id=\"edge1\" class=\"edge\">\r\n",
       "<title>kxupOOpMqi9u8FHn/n2kai5au7DvP89vJMiaGGWIDjX3waVYqY7R29YJ7Ooit5SRTWDhxTOlosTGLcA/EE8kbg==&#45;&gt;3NsFsBQo2URgAC3KOQgRp0054c1iK9F1KzMQGM78CmaqFz3GkQNub0KaHQBmo6bDgRzIEPF4dQfibxOwJbUgcA==</title>\r\n",
       "<path fill=\"none\" stroke=\"black\" d=\"M138.16,-153.22C128.28,-165.92 116.04,-181.66 105.34,-195.42\"/>\r\n",
       "<polygon fill=\"black\" stroke=\"black\" points=\"102.29,-193.65 98.91,-203.69 107.81,-197.94 102.29,-193.65\"/>\r\n",
       "<text text-anchor=\"middle\" x=\"142.5\" y=\"-174.8\" font-family=\"Times New Roman,serif\" font-size=\"14.00\">person</text>\r\n",
       "</g>\r\n",
       "<!-- +5u9Q3xKOm82JRW2YnDsogmx22cvcpeduGGq2Ry1WPDre7F/nNKf18hDvOOjLS8vcJnQiLeFbU0IqYNopTqX3A== -->\r\n",
       "<g id=\"node3\" class=\"node\">\r\n",
       "<title>+5u9Q3xKOm82JRW2YnDsogmx22cvcpeduGGq2Ry1WPDre7F/nNKf18hDvOOjLS8vcJnQiLeFbU0IqYNopTqX3A==</title>\r\n",
       "<polygon fill=\"none\" stroke=\"black\" points=\"18,-26 18,-47 102,-47 102,-26 18,-26\"/>\r\n",
       "<text text-anchor=\"start\" x=\"22\" y=\"-32.8\" font-family=\"Times New Roman,serif\" font-size=\"14.00\">Person.Name</text>\r\n",
       "<polygon fill=\"none\" stroke=\"black\" points=\"18,-5 18,-26 53,-26 53,-5 18,-5\"/>\r\n",
       "<text text-anchor=\"start\" x=\"21\" y=\"-11.8\" font-family=\"Times New Roman,serif\" font-size=\"14.00\">value</text>\r\n",
       "<polygon fill=\"none\" stroke=\"black\" points=\"53,-5 53,-26 102,-26 102,-5 53,-5\"/>\r\n",
       "<text text-anchor=\"start\" x=\"56\" y=\"-11.8\" font-family=\"Times New Roman,serif\" font-size=\"14.00\">&quot;Jorge&quot;</text>\r\n",
       "<polygon fill=\"none\" stroke=\"black\" points=\"17,-4 17,-48 103,-48 103,-4 17,-4\"/>\r\n",
       "</g>\r\n",
       "<!-- +5u9Q3xKOm82JRW2YnDsogmx22cvcpeduGGq2Ry1WPDre7F/nNKf18hDvOOjLS8vcJnQiLeFbU0IqYNopTqX3A==&#45;&gt;3NsFsBQo2URgAC3KOQgRp0054c1iK9F1KzMQGM78CmaqFz3GkQNub0KaHQBmo6bDgRzIEPF4dQfibxOwJbUgcA== -->\r\n",
       "<g id=\"edge2\" class=\"edge\">\r\n",
       "<title>+5u9Q3xKOm82JRW2YnDsogmx22cvcpeduGGq2Ry1WPDre7F/nNKf18hDvOOjLS8vcJnQiLeFbU0IqYNopTqX3A==&#45;&gt;3NsFsBQo2URgAC3KOQgRp0054c1iK9F1KzMQGM78CmaqFz3GkQNub0KaHQBmo6bDgRzIEPF4dQfibxOwJbUgcA==</title>\r\n",
       "<path fill=\"none\" stroke=\"black\" d=\"M55.65,-52.29C51.98,-77.87 48.18,-118.45 54,-153 56.33,-166.83 60.92,-181.52 65.6,-194.2\"/>\r\n",
       "<polygon fill=\"black\" stroke=\"black\" points=\"62.47,-195.81 69.33,-203.88 69,-193.29 62.47,-195.81\"/>\r\n",
       "<text text-anchor=\"middle\" x=\"73.5\" y=\"-124.3\" font-family=\"Times New Roman,serif\" font-size=\"14.00\">person</text>\r\n",
       "</g>\r\n",
       "<!-- +5u9Q3xKOm82JRW2YnDsogmx22cvcpeduGGq2Ry1WPDre7F/nNKf18hDvOOjLS8vcJnQiLeFbU0IqYNopTqX3A==&#45;&gt;kxupOOpMqi9u8FHn/n2kai5au7DvP89vJMiaGGWIDjX3waVYqY7R29YJ7Ooit5SRTWDhxTOlosTGLcA/EE8kbg== -->\r\n",
       "<g id=\"edge3\" class=\"edge\">\r\n",
       "<title>+5u9Q3xKOm82JRW2YnDsogmx22cvcpeduGGq2Ry1WPDre7F/nNKf18hDvOOjLS8vcJnQiLeFbU0IqYNopTqX3A==&#45;&gt;kxupOOpMqi9u8FHn/n2kai5au7DvP89vJMiaGGWIDjX3waVYqY7R29YJ7Ooit5SRTWDhxTOlosTGLcA/EE8kbg==</title>\r\n",
       "<path fill=\"none\" stroke=\"black\" d=\"M84.48,-52.23C97.17,-65.32 112.8,-81.43 126.29,-95.34\"/>\r\n",
       "<polygon fill=\"black\" stroke=\"black\" points=\"124.06,-98.07 133.53,-102.81 129.08,-93.19 124.06,-98.07\"/>\r\n",
       "<text text-anchor=\"middle\" x=\"128\" y=\"-73.8\" font-family=\"Times New Roman,serif\" font-size=\"14.00\">prior</text>\r\n",
       "</g>\r\n",
       "</g>\r\n",
       "</svg>\r\n"
      ]
     },
     "metadata": {},
     "output_type": "display_data"
    }
   ],
   "metadata": {
    "dotnet_interactive": {
     "language": "csharp"
    }
   }
  },
  {
   "cell_type": "code",
   "execution_count": null,
   "source": [
    "namesOfPerson.Pipeline.ToDescriptiveString()"
   ],
   "outputs": [
    {
     "data": {
      "text/plain": [
       "george: Jinaga.User {\r\n",
       "    personName: Person.Name = george S.person Person.Name\r\n",
       "    N(\r\n",
       "        personName: Person.Name {\r\n",
       "            next: Person.Name = personName S.prior Person.Name\r\n",
       "        }\r\n",
       "    )\r\n",
       "}\r\n"
      ]
     },
     "metadata": {},
     "output_type": "display_data"
    }
   ],
   "metadata": {
    "dotnet_interactive": {
     "language": "csharp"
    }
   }
  },
  {
   "cell_type": "code",
   "execution_count": null,
   "source": [
    "double AreaOfCircle(double radius) => Math.PI * radius * radius;\r\n",
    "\r\n",
    "\r\n",
    "class Circle\r\n",
    "{\r\n",
    "    public double Radius { get; set; }\r\n",
    "    public double Area => Math.PI * Radius * Radius;\r\n",
    "\r\n",
    "    public Circle(double radius)\r\n",
    "    {\r\n",
    "        Radius = radius;\r\n",
    "    }\r\n",
    "}\r\n",
    "\r\n",
    "// Michael Perry is a C# developer, and he is a fan of the C# language.\r\n",
    "// Jon Skeet is a StackOverflow contributor, and he is a fan of the StackOverflow community."
   ],
   "outputs": [],
   "metadata": {
    "dotnet_interactive": {
     "language": "csharp"
    }
   }
  }
 ],
 "nbformat": 4,
 "nbformat_minor": 2
}